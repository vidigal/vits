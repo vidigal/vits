{
 "cells": [
  {
   "cell_type": "code",
   "execution_count": null,
   "id": "b02e395d",
   "metadata": {},
   "outputs": [
    {
     "ename": "",
     "evalue": "",
     "output_type": "error",
     "traceback": [
      "\u001b[1;31mThe kernel failed to start as the Python Environment 'vits' is no longer available. Consider selecting another kernel or refreshing the list of Python Environments."
     ]
    }
   ],
   "source": [
    "import os\n",
    "import librosa\n",
    "import pandas as pd\n",
    "import soundfile as sf\n",
    "from tqdm.notebook import tqdm_notebook as tqdm"
   ]
  },
  {
   "cell_type": "code",
   "execution_count": 2,
   "id": "21714ab5",
   "metadata": {},
   "outputs": [],
   "source": [
    "full_dataset = pd.DataFrame(columns=['path', 'sentence'])"
   ]
  },
  {
   "cell_type": "code",
   "execution_count": 3,
   "id": "5b9fa089",
   "metadata": {
    "scrolled": true
   },
   "outputs": [],
   "source": [
    "#path_ljspeech = 'data/LJSpeech'\n",
    "path_tts_portuguese = 'data/prime'\n",
    "#path_custom_dataset = 'data/custom_dataset'"
   ]
  },
  {
   "cell_type": "markdown",
   "id": "9ca9c85c",
   "metadata": {},
   "source": [
    "## TTS Portuguese Corpus"
   ]
  },
  {
   "cell_type": "code",
   "execution_count": 4,
   "id": "9f2300f7",
   "metadata": {},
   "outputs": [
    {
     "name": "stderr",
     "output_type": "stream",
     "text": [
      "/tmp/ipykernel_78801/857569029.py:1: ParserWarning: Falling back to the 'python' engine because the 'c' engine does not support regex separators (separators > 1 char and different from '\\s+' are interpreted as regex); you can avoid this warning by specifying engine='python'.\n",
      "  df_dataset_tts_portuguese = pd.read_csv(f'{path_tts_portuguese}/texts.csv', header=None, sep='==')\n"
     ]
    },
    {
     "data": {
      "text/html": [
       "<div>\n",
       "<style scoped>\n",
       "    .dataframe tbody tr th:only-of-type {\n",
       "        vertical-align: middle;\n",
       "    }\n",
       "\n",
       "    .dataframe tbody tr th {\n",
       "        vertical-align: top;\n",
       "    }\n",
       "\n",
       "    .dataframe thead th {\n",
       "        text-align: right;\n",
       "    }\n",
       "</style>\n",
       "<table border=\"1\" class=\"dataframe\">\n",
       "  <thead>\n",
       "    <tr style=\"text-align: right;\">\n",
       "      <th></th>\n",
       "      <th>path</th>\n",
       "      <th>sentence</th>\n",
       "    </tr>\n",
       "  </thead>\n",
       "  <tbody>\n",
       "    <tr>\n",
       "      <th>0</th>\n",
       "      <td>wavs/01.wav</td>\n",
       "      <td>Título I – Dos princípios fundamentais</td>\n",
       "    </tr>\n",
       "    <tr>\n",
       "      <th>1</th>\n",
       "      <td>wavs/02.wav</td>\n",
       "      <td>Artigo 1º. A República Federativa do Brasil, f...</td>\n",
       "    </tr>\n",
       "    <tr>\n",
       "      <th>2</th>\n",
       "      <td>wavs/03.wav</td>\n",
       "      <td>Constitui-se em estado democrático de direito ...</td>\n",
       "    </tr>\n",
       "    <tr>\n",
       "      <th>3</th>\n",
       "      <td>wavs/04.wav</td>\n",
       "      <td>Inciso I. A soberania. Inciso II.</td>\n",
       "    </tr>\n",
       "    <tr>\n",
       "      <th>4</th>\n",
       "      <td>wavs/05.wav</td>\n",
       "      <td>A cidadania. Inciso 3. A dignidade da pessoa h...</td>\n",
       "    </tr>\n",
       "    <tr>\n",
       "      <th>...</th>\n",
       "      <td>...</td>\n",
       "      <td>...</td>\n",
       "    </tr>\n",
       "    <tr>\n",
       "      <th>7600</th>\n",
       "      <td>wavs/995.wav</td>\n",
       "      <td>Artigo 49. É da competência exclusiva do Congr...</td>\n",
       "    </tr>\n",
       "    <tr>\n",
       "      <th>7601</th>\n",
       "      <td>wavs/996.wav</td>\n",
       "      <td>Artigo alterado pela Emenda Constitucional nº ...</td>\n",
       "    </tr>\n",
       "    <tr>\n",
       "      <th>7602</th>\n",
       "      <td>wavs/997.wav</td>\n",
       "      <td>Inciso I</td>\n",
       "    </tr>\n",
       "    <tr>\n",
       "      <th>7603</th>\n",
       "      <td>wavs/998.wav</td>\n",
       "      <td>Inciso 2. Autorizar o Presidente da República ...</td>\n",
       "    </tr>\n",
       "    <tr>\n",
       "      <th>7604</th>\n",
       "      <td>wavs/999.wav</td>\n",
       "      <td>ou nele permaneçam temporariamente ressalvados...</td>\n",
       "    </tr>\n",
       "  </tbody>\n",
       "</table>\n",
       "<p>7605 rows × 2 columns</p>\n",
       "</div>"
      ],
      "text/plain": [
       "              path                                           sentence\n",
       "0      wavs/01.wav             Título I – Dos princípios fundamentais\n",
       "1      wavs/02.wav  Artigo 1º. A República Federativa do Brasil, f...\n",
       "2      wavs/03.wav  Constitui-se em estado democrático de direito ...\n",
       "3      wavs/04.wav                  Inciso I. A soberania. Inciso II.\n",
       "4      wavs/05.wav  A cidadania. Inciso 3. A dignidade da pessoa h...\n",
       "...            ...                                                ...\n",
       "7600  wavs/995.wav  Artigo 49. É da competência exclusiva do Congr...\n",
       "7601  wavs/996.wav  Artigo alterado pela Emenda Constitucional nº ...\n",
       "7602  wavs/997.wav                                           Inciso I\n",
       "7603  wavs/998.wav  Inciso 2. Autorizar o Presidente da República ...\n",
       "7604  wavs/999.wav  ou nele permaneçam temporariamente ressalvados...\n",
       "\n",
       "[7605 rows x 2 columns]"
      ]
     },
     "execution_count": 4,
     "metadata": {},
     "output_type": "execute_result"
    }
   ],
   "source": [
    "df_dataset_tts_portuguese = pd.read_csv(f'{path_tts_portuguese}/texts.csv', header=None, sep='==')\n",
    "df_dataset_tts_portuguese = df_dataset_tts_portuguese.rename(columns={0: 'path', 1: 'sentence'})\n",
    "df_dataset_tts_portuguese"
   ]
  },
  {
   "cell_type": "code",
   "execution_count": 5,
   "id": "e645ad09",
   "metadata": {},
   "outputs": [
    {
     "data": {
      "text/html": [
       "<div>\n",
       "<style scoped>\n",
       "    .dataframe tbody tr th:only-of-type {\n",
       "        vertical-align: middle;\n",
       "    }\n",
       "\n",
       "    .dataframe tbody tr th {\n",
       "        vertical-align: top;\n",
       "    }\n",
       "\n",
       "    .dataframe thead th {\n",
       "        text-align: right;\n",
       "    }\n",
       "</style>\n",
       "<table border=\"1\" class=\"dataframe\">\n",
       "  <thead>\n",
       "    <tr style=\"text-align: right;\">\n",
       "      <th></th>\n",
       "      <th>path</th>\n",
       "      <th>sentence</th>\n",
       "    </tr>\n",
       "  </thead>\n",
       "  <tbody>\n",
       "    <tr>\n",
       "      <th>0</th>\n",
       "      <td>data/prime/wavs/01.wav</td>\n",
       "      <td>Título I – Dos princípios fundamentais</td>\n",
       "    </tr>\n",
       "    <tr>\n",
       "      <th>1</th>\n",
       "      <td>data/prime/wavs/02.wav</td>\n",
       "      <td>Artigo 1º. A República Federativa do Brasil, f...</td>\n",
       "    </tr>\n",
       "    <tr>\n",
       "      <th>2</th>\n",
       "      <td>data/prime/wavs/03.wav</td>\n",
       "      <td>Constitui-se em estado democrático de direito ...</td>\n",
       "    </tr>\n",
       "    <tr>\n",
       "      <th>3</th>\n",
       "      <td>data/prime/wavs/04.wav</td>\n",
       "      <td>Inciso I. A soberania. Inciso II.</td>\n",
       "    </tr>\n",
       "    <tr>\n",
       "      <th>4</th>\n",
       "      <td>data/prime/wavs/05.wav</td>\n",
       "      <td>A cidadania. Inciso 3. A dignidade da pessoa h...</td>\n",
       "    </tr>\n",
       "    <tr>\n",
       "      <th>...</th>\n",
       "      <td>...</td>\n",
       "      <td>...</td>\n",
       "    </tr>\n",
       "    <tr>\n",
       "      <th>7600</th>\n",
       "      <td>data/prime/wavs/995.wav</td>\n",
       "      <td>Artigo 49. É da competência exclusiva do Congr...</td>\n",
       "    </tr>\n",
       "    <tr>\n",
       "      <th>7601</th>\n",
       "      <td>data/prime/wavs/996.wav</td>\n",
       "      <td>Artigo alterado pela Emenda Constitucional nº ...</td>\n",
       "    </tr>\n",
       "    <tr>\n",
       "      <th>7602</th>\n",
       "      <td>data/prime/wavs/997.wav</td>\n",
       "      <td>Inciso I</td>\n",
       "    </tr>\n",
       "    <tr>\n",
       "      <th>7603</th>\n",
       "      <td>data/prime/wavs/998.wav</td>\n",
       "      <td>Inciso 2. Autorizar o Presidente da República ...</td>\n",
       "    </tr>\n",
       "    <tr>\n",
       "      <th>7604</th>\n",
       "      <td>data/prime/wavs/999.wav</td>\n",
       "      <td>ou nele permaneçam temporariamente ressalvados...</td>\n",
       "    </tr>\n",
       "  </tbody>\n",
       "</table>\n",
       "<p>7605 rows × 2 columns</p>\n",
       "</div>"
      ],
      "text/plain": [
       "                         path  \\\n",
       "0      data/prime/wavs/01.wav   \n",
       "1      data/prime/wavs/02.wav   \n",
       "2      data/prime/wavs/03.wav   \n",
       "3      data/prime/wavs/04.wav   \n",
       "4      data/prime/wavs/05.wav   \n",
       "...                       ...   \n",
       "7600  data/prime/wavs/995.wav   \n",
       "7601  data/prime/wavs/996.wav   \n",
       "7602  data/prime/wavs/997.wav   \n",
       "7603  data/prime/wavs/998.wav   \n",
       "7604  data/prime/wavs/999.wav   \n",
       "\n",
       "                                               sentence  \n",
       "0                Título I – Dos princípios fundamentais  \n",
       "1     Artigo 1º. A República Federativa do Brasil, f...  \n",
       "2     Constitui-se em estado democrático de direito ...  \n",
       "3                     Inciso I. A soberania. Inciso II.  \n",
       "4     A cidadania. Inciso 3. A dignidade da pessoa h...  \n",
       "...                                                 ...  \n",
       "7600  Artigo 49. É da competência exclusiva do Congr...  \n",
       "7601  Artigo alterado pela Emenda Constitucional nº ...  \n",
       "7602                                           Inciso I  \n",
       "7603  Inciso 2. Autorizar o Presidente da República ...  \n",
       "7604  ou nele permaneçam temporariamente ressalvados...  \n",
       "\n",
       "[7605 rows x 2 columns]"
      ]
     },
     "execution_count": 5,
     "metadata": {},
     "output_type": "execute_result"
    }
   ],
   "source": [
    "df_dataset_tts_portuguese['path'] = f'{path_tts_portuguese}/' + df_dataset_tts_portuguese[\"path\"]\n",
    "df_dataset_tts_portuguese"
   ]
  },
  {
   "cell_type": "code",
   "execution_count": 6,
   "id": "12dedbc0",
   "metadata": {},
   "outputs": [
    {
     "data": {
      "text/html": [
       "<div>\n",
       "<style scoped>\n",
       "    .dataframe tbody tr th:only-of-type {\n",
       "        vertical-align: middle;\n",
       "    }\n",
       "\n",
       "    .dataframe tbody tr th {\n",
       "        vertical-align: top;\n",
       "    }\n",
       "\n",
       "    .dataframe thead th {\n",
       "        text-align: right;\n",
       "    }\n",
       "</style>\n",
       "<table border=\"1\" class=\"dataframe\">\n",
       "  <thead>\n",
       "    <tr style=\"text-align: right;\">\n",
       "      <th></th>\n",
       "      <th>path</th>\n",
       "      <th>sentence</th>\n",
       "    </tr>\n",
       "  </thead>\n",
       "  <tbody>\n",
       "    <tr>\n",
       "      <th>0</th>\n",
       "      <td>data/prime/wavs/01.wav</td>\n",
       "      <td>Título I – Dos princípios fundamentais</td>\n",
       "    </tr>\n",
       "    <tr>\n",
       "      <th>1</th>\n",
       "      <td>data/prime/wavs/02.wav</td>\n",
       "      <td>Artigo 1º. A República Federativa do Brasil, f...</td>\n",
       "    </tr>\n",
       "    <tr>\n",
       "      <th>2</th>\n",
       "      <td>data/prime/wavs/03.wav</td>\n",
       "      <td>Constitui-se em estado democrático de direito ...</td>\n",
       "    </tr>\n",
       "    <tr>\n",
       "      <th>3</th>\n",
       "      <td>data/prime/wavs/04.wav</td>\n",
       "      <td>Inciso I. A soberania. Inciso II.</td>\n",
       "    </tr>\n",
       "    <tr>\n",
       "      <th>4</th>\n",
       "      <td>data/prime/wavs/05.wav</td>\n",
       "      <td>A cidadania. Inciso 3. A dignidade da pessoa h...</td>\n",
       "    </tr>\n",
       "    <tr>\n",
       "      <th>...</th>\n",
       "      <td>...</td>\n",
       "      <td>...</td>\n",
       "    </tr>\n",
       "    <tr>\n",
       "      <th>7600</th>\n",
       "      <td>data/prime/wavs/995.wav</td>\n",
       "      <td>Artigo 49. É da competência exclusiva do Congr...</td>\n",
       "    </tr>\n",
       "    <tr>\n",
       "      <th>7601</th>\n",
       "      <td>data/prime/wavs/996.wav</td>\n",
       "      <td>Artigo alterado pela Emenda Constitucional nº ...</td>\n",
       "    </tr>\n",
       "    <tr>\n",
       "      <th>7602</th>\n",
       "      <td>data/prime/wavs/997.wav</td>\n",
       "      <td>Inciso I</td>\n",
       "    </tr>\n",
       "    <tr>\n",
       "      <th>7603</th>\n",
       "      <td>data/prime/wavs/998.wav</td>\n",
       "      <td>Inciso 2. Autorizar o Presidente da República ...</td>\n",
       "    </tr>\n",
       "    <tr>\n",
       "      <th>7604</th>\n",
       "      <td>data/prime/wavs/999.wav</td>\n",
       "      <td>ou nele permaneçam temporariamente ressalvados...</td>\n",
       "    </tr>\n",
       "  </tbody>\n",
       "</table>\n",
       "<p>7605 rows × 2 columns</p>\n",
       "</div>"
      ],
      "text/plain": [
       "                         path  \\\n",
       "0      data/prime/wavs/01.wav   \n",
       "1      data/prime/wavs/02.wav   \n",
       "2      data/prime/wavs/03.wav   \n",
       "3      data/prime/wavs/04.wav   \n",
       "4      data/prime/wavs/05.wav   \n",
       "...                       ...   \n",
       "7600  data/prime/wavs/995.wav   \n",
       "7601  data/prime/wavs/996.wav   \n",
       "7602  data/prime/wavs/997.wav   \n",
       "7603  data/prime/wavs/998.wav   \n",
       "7604  data/prime/wavs/999.wav   \n",
       "\n",
       "                                               sentence  \n",
       "0                Título I – Dos princípios fundamentais  \n",
       "1     Artigo 1º. A República Federativa do Brasil, f...  \n",
       "2     Constitui-se em estado democrático de direito ...  \n",
       "3                     Inciso I. A soberania. Inciso II.  \n",
       "4     A cidadania. Inciso 3. A dignidade da pessoa h...  \n",
       "...                                                 ...  \n",
       "7600  Artigo 49. É da competência exclusiva do Congr...  \n",
       "7601  Artigo alterado pela Emenda Constitucional nº ...  \n",
       "7602                                           Inciso I  \n",
       "7603  Inciso 2. Autorizar o Presidente da República ...  \n",
       "7604  ou nele permaneçam temporariamente ressalvados...  \n",
       "\n",
       "[7605 rows x 2 columns]"
      ]
     },
     "execution_count": 6,
     "metadata": {},
     "output_type": "execute_result"
    }
   ],
   "source": [
    "full_dataset = pd.concat([full_dataset, df_dataset_tts_portuguese], ignore_index=True)\n",
    "full_dataset"
   ]
  },
  {
   "cell_type": "markdown",
   "id": "6aab3e19",
   "metadata": {},
   "source": [
    "## Remove problemas no dataset"
   ]
  },
  {
   "cell_type": "markdown",
   "id": "28116849",
   "metadata": {},
   "source": [
    "Printa os caminhos que não existe o arquivo (se não printar nada, significa que está tudo ok) e marca para serem removidos do dataset"
   ]
  },
  {
   "cell_type": "code",
   "execution_count": 7,
   "id": "527e7b90",
   "metadata": {},
   "outputs": [],
   "source": [
    "for idx, path in enumerate(full_dataset['path']):\n",
    "    if not os.path.exists(path):\n",
    "        print(idx, path)\n",
    "        full_dataset.loc[idx, 'sentence'] = None"
   ]
  },
  {
   "cell_type": "markdown",
   "id": "b8b3350e",
   "metadata": {},
   "source": [
    "Remove sentenças em branco"
   ]
  },
  {
   "cell_type": "code",
   "execution_count": 8,
   "id": "232d60c3",
   "metadata": {
    "scrolled": true
   },
   "outputs": [
    {
     "data": {
      "text/plain": [
       "path        0\n",
       "sentence    0\n",
       "dtype: int64"
      ]
     },
     "execution_count": 8,
     "metadata": {},
     "output_type": "execute_result"
    }
   ],
   "source": [
    "full_dataset[full_dataset['sentence'] == ''].count()"
   ]
  },
  {
   "cell_type": "code",
   "execution_count": 9,
   "id": "15e58efb",
   "metadata": {},
   "outputs": [
    {
     "data": {
      "text/html": [
       "<div>\n",
       "<style scoped>\n",
       "    .dataframe tbody tr th:only-of-type {\n",
       "        vertical-align: middle;\n",
       "    }\n",
       "\n",
       "    .dataframe tbody tr th {\n",
       "        vertical-align: top;\n",
       "    }\n",
       "\n",
       "    .dataframe thead th {\n",
       "        text-align: right;\n",
       "    }\n",
       "</style>\n",
       "<table border=\"1\" class=\"dataframe\">\n",
       "  <thead>\n",
       "    <tr style=\"text-align: right;\">\n",
       "      <th></th>\n",
       "      <th>path</th>\n",
       "      <th>sentence</th>\n",
       "    </tr>\n",
       "  </thead>\n",
       "  <tbody>\n",
       "    <tr>\n",
       "      <th>0</th>\n",
       "      <td>data/prime/wavs/01.wav</td>\n",
       "      <td>Título I – Dos princípios fundamentais</td>\n",
       "    </tr>\n",
       "    <tr>\n",
       "      <th>1</th>\n",
       "      <td>data/prime/wavs/02.wav</td>\n",
       "      <td>Artigo 1º. A República Federativa do Brasil, f...</td>\n",
       "    </tr>\n",
       "    <tr>\n",
       "      <th>2</th>\n",
       "      <td>data/prime/wavs/03.wav</td>\n",
       "      <td>Constitui-se em estado democrático de direito ...</td>\n",
       "    </tr>\n",
       "    <tr>\n",
       "      <th>3</th>\n",
       "      <td>data/prime/wavs/04.wav</td>\n",
       "      <td>Inciso I. A soberania. Inciso II.</td>\n",
       "    </tr>\n",
       "    <tr>\n",
       "      <th>4</th>\n",
       "      <td>data/prime/wavs/05.wav</td>\n",
       "      <td>A cidadania. Inciso 3. A dignidade da pessoa h...</td>\n",
       "    </tr>\n",
       "    <tr>\n",
       "      <th>...</th>\n",
       "      <td>...</td>\n",
       "      <td>...</td>\n",
       "    </tr>\n",
       "    <tr>\n",
       "      <th>7600</th>\n",
       "      <td>data/prime/wavs/995.wav</td>\n",
       "      <td>Artigo 49. É da competência exclusiva do Congr...</td>\n",
       "    </tr>\n",
       "    <tr>\n",
       "      <th>7601</th>\n",
       "      <td>data/prime/wavs/996.wav</td>\n",
       "      <td>Artigo alterado pela Emenda Constitucional nº ...</td>\n",
       "    </tr>\n",
       "    <tr>\n",
       "      <th>7602</th>\n",
       "      <td>data/prime/wavs/997.wav</td>\n",
       "      <td>Inciso I</td>\n",
       "    </tr>\n",
       "    <tr>\n",
       "      <th>7603</th>\n",
       "      <td>data/prime/wavs/998.wav</td>\n",
       "      <td>Inciso 2. Autorizar o Presidente da República ...</td>\n",
       "    </tr>\n",
       "    <tr>\n",
       "      <th>7604</th>\n",
       "      <td>data/prime/wavs/999.wav</td>\n",
       "      <td>ou nele permaneçam temporariamente ressalvados...</td>\n",
       "    </tr>\n",
       "  </tbody>\n",
       "</table>\n",
       "<p>7605 rows × 2 columns</p>\n",
       "</div>"
      ],
      "text/plain": [
       "                         path  \\\n",
       "0      data/prime/wavs/01.wav   \n",
       "1      data/prime/wavs/02.wav   \n",
       "2      data/prime/wavs/03.wav   \n",
       "3      data/prime/wavs/04.wav   \n",
       "4      data/prime/wavs/05.wav   \n",
       "...                       ...   \n",
       "7600  data/prime/wavs/995.wav   \n",
       "7601  data/prime/wavs/996.wav   \n",
       "7602  data/prime/wavs/997.wav   \n",
       "7603  data/prime/wavs/998.wav   \n",
       "7604  data/prime/wavs/999.wav   \n",
       "\n",
       "                                               sentence  \n",
       "0                Título I – Dos princípios fundamentais  \n",
       "1     Artigo 1º. A República Federativa do Brasil, f...  \n",
       "2     Constitui-se em estado democrático de direito ...  \n",
       "3                     Inciso I. A soberania. Inciso II.  \n",
       "4     A cidadania. Inciso 3. A dignidade da pessoa h...  \n",
       "...                                                 ...  \n",
       "7600  Artigo 49. É da competência exclusiva do Congr...  \n",
       "7601  Artigo alterado pela Emenda Constitucional nº ...  \n",
       "7602                                           Inciso I  \n",
       "7603  Inciso 2. Autorizar o Presidente da República ...  \n",
       "7604  ou nele permaneçam temporariamente ressalvados...  \n",
       "\n",
       "[7605 rows x 2 columns]"
      ]
     },
     "execution_count": 9,
     "metadata": {},
     "output_type": "execute_result"
    }
   ],
   "source": [
    "full_dataset[full_dataset['sentence'] == ''] = None\n",
    "full_dataset = full_dataset.dropna(subset='sentence')\n",
    "full_dataset"
   ]
  },
  {
   "cell_type": "markdown",
   "id": "e8efd892",
   "metadata": {},
   "source": [
    "## Salva dataset"
   ]
  },
  {
   "cell_type": "markdown",
   "id": "18c2c9a8",
   "metadata": {},
   "source": [
    "Armazena em uma nova coluna o tempo de cada áudio"
   ]
  },
  {
   "cell_type": "code",
   "execution_count": 10,
   "id": "f25b738b",
   "metadata": {},
   "outputs": [
    {
     "data": {
      "application/vnd.jupyter.widget-view+json": {
       "model_id": "4792caac844341a5afbda1b7e38f7d61",
       "version_major": 2,
       "version_minor": 0
      },
      "text/plain": [
       "  0%|          | 0/7605 [00:00<?, ?it/s]"
      ]
     },
     "metadata": {},
     "output_type": "display_data"
    }
   ],
   "source": [
    "all_times = []\n",
    "for path in tqdm(full_dataset['path']):\n",
    "    all_times.append(librosa.get_duration(filename=path))\n",
    "full_dataset['time'] = all_times"
   ]
  },
  {
   "cell_type": "code",
   "execution_count": 11,
   "id": "13575e3b",
   "metadata": {},
   "outputs": [
    {
     "data": {
      "text/html": [
       "<div>\n",
       "<style scoped>\n",
       "    .dataframe tbody tr th:only-of-type {\n",
       "        vertical-align: middle;\n",
       "    }\n",
       "\n",
       "    .dataframe tbody tr th {\n",
       "        vertical-align: top;\n",
       "    }\n",
       "\n",
       "    .dataframe thead th {\n",
       "        text-align: right;\n",
       "    }\n",
       "</style>\n",
       "<table border=\"1\" class=\"dataframe\">\n",
       "  <thead>\n",
       "    <tr style=\"text-align: right;\">\n",
       "      <th></th>\n",
       "      <th>path</th>\n",
       "      <th>sentence</th>\n",
       "      <th>time</th>\n",
       "    </tr>\n",
       "  </thead>\n",
       "  <tbody>\n",
       "    <tr>\n",
       "      <th>0</th>\n",
       "      <td>data/prime/wavs/01.wav</td>\n",
       "      <td>Título I – Dos princípios fundamentais</td>\n",
       "      <td>3.217279</td>\n",
       "    </tr>\n",
       "    <tr>\n",
       "      <th>1</th>\n",
       "      <td>data/prime/wavs/02.wav</td>\n",
       "      <td>Artigo 1º. A República Federativa do Brasil, f...</td>\n",
       "      <td>9.200816</td>\n",
       "    </tr>\n",
       "    <tr>\n",
       "      <th>2</th>\n",
       "      <td>data/prime/wavs/03.wav</td>\n",
       "      <td>Constitui-se em estado democrático de direito ...</td>\n",
       "      <td>5.602676</td>\n",
       "    </tr>\n",
       "    <tr>\n",
       "      <th>3</th>\n",
       "      <td>data/prime/wavs/04.wav</td>\n",
       "      <td>Inciso I. A soberania. Inciso II.</td>\n",
       "      <td>4.409977</td>\n",
       "    </tr>\n",
       "    <tr>\n",
       "      <th>4</th>\n",
       "      <td>data/prime/wavs/05.wav</td>\n",
       "      <td>A cidadania. Inciso 3. A dignidade da pessoa h...</td>\n",
       "      <td>5.652789</td>\n",
       "    </tr>\n",
       "    <tr>\n",
       "      <th>...</th>\n",
       "      <td>...</td>\n",
       "      <td>...</td>\n",
       "      <td>...</td>\n",
       "    </tr>\n",
       "    <tr>\n",
       "      <th>7600</th>\n",
       "      <td>data/prime/wavs/995.wav</td>\n",
       "      <td>Artigo 49. É da competência exclusiva do Congr...</td>\n",
       "      <td>5.111565</td>\n",
       "    </tr>\n",
       "    <tr>\n",
       "      <th>7601</th>\n",
       "      <td>data/prime/wavs/996.wav</td>\n",
       "      <td>Artigo alterado pela Emenda Constitucional nº ...</td>\n",
       "      <td>4.590385</td>\n",
       "    </tr>\n",
       "    <tr>\n",
       "      <th>7602</th>\n",
       "      <td>data/prime/wavs/997.wav</td>\n",
       "      <td>Inciso I</td>\n",
       "      <td>10.183039</td>\n",
       "    </tr>\n",
       "    <tr>\n",
       "      <th>7603</th>\n",
       "      <td>data/prime/wavs/998.wav</td>\n",
       "      <td>Inciso 2. Autorizar o Presidente da República ...</td>\n",
       "      <td>9.391247</td>\n",
       "    </tr>\n",
       "    <tr>\n",
       "      <th>7604</th>\n",
       "      <td>data/prime/wavs/999.wav</td>\n",
       "      <td>ou nele permaneçam temporariamente ressalvados...</td>\n",
       "      <td>5.191746</td>\n",
       "    </tr>\n",
       "  </tbody>\n",
       "</table>\n",
       "<p>7605 rows × 3 columns</p>\n",
       "</div>"
      ],
      "text/plain": [
       "                         path  \\\n",
       "0      data/prime/wavs/01.wav   \n",
       "1      data/prime/wavs/02.wav   \n",
       "2      data/prime/wavs/03.wav   \n",
       "3      data/prime/wavs/04.wav   \n",
       "4      data/prime/wavs/05.wav   \n",
       "...                       ...   \n",
       "7600  data/prime/wavs/995.wav   \n",
       "7601  data/prime/wavs/996.wav   \n",
       "7602  data/prime/wavs/997.wav   \n",
       "7603  data/prime/wavs/998.wav   \n",
       "7604  data/prime/wavs/999.wav   \n",
       "\n",
       "                                               sentence       time  \n",
       "0                Título I – Dos princípios fundamentais   3.217279  \n",
       "1     Artigo 1º. A República Federativa do Brasil, f...   9.200816  \n",
       "2     Constitui-se em estado democrático de direito ...   5.602676  \n",
       "3                     Inciso I. A soberania. Inciso II.   4.409977  \n",
       "4     A cidadania. Inciso 3. A dignidade da pessoa h...   5.652789  \n",
       "...                                                 ...        ...  \n",
       "7600  Artigo 49. É da competência exclusiva do Congr...   5.111565  \n",
       "7601  Artigo alterado pela Emenda Constitucional nº ...   4.590385  \n",
       "7602                                           Inciso I  10.183039  \n",
       "7603  Inciso 2. Autorizar o Presidente da República ...   9.391247  \n",
       "7604  ou nele permaneçam temporariamente ressalvados...   5.191746  \n",
       "\n",
       "[7605 rows x 3 columns]"
      ]
     },
     "execution_count": 11,
     "metadata": {},
     "output_type": "execute_result"
    }
   ],
   "source": [
    "full_dataset"
   ]
  },
  {
   "cell_type": "code",
   "execution_count": 12,
   "id": "e68f21a2",
   "metadata": {},
   "outputs": [],
   "source": [
    "full_dataset.to_csv('data/dataset_custom.tsv', sep='\\t', index=False)"
   ]
  },
  {
   "cell_type": "markdown",
   "id": "9859c140",
   "metadata": {},
   "source": [
    "# Limpar dataset"
   ]
  },
  {
   "cell_type": "code",
   "execution_count": 13,
   "id": "d9f4513e",
   "metadata": {},
   "outputs": [
    {
     "data": {
      "text/html": [
       "<div>\n",
       "<style scoped>\n",
       "    .dataframe tbody tr th:only-of-type {\n",
       "        vertical-align: middle;\n",
       "    }\n",
       "\n",
       "    .dataframe tbody tr th {\n",
       "        vertical-align: top;\n",
       "    }\n",
       "\n",
       "    .dataframe thead th {\n",
       "        text-align: right;\n",
       "    }\n",
       "</style>\n",
       "<table border=\"1\" class=\"dataframe\">\n",
       "  <thead>\n",
       "    <tr style=\"text-align: right;\">\n",
       "      <th></th>\n",
       "      <th>path</th>\n",
       "      <th>sentence</th>\n",
       "      <th>time</th>\n",
       "    </tr>\n",
       "  </thead>\n",
       "  <tbody>\n",
       "    <tr>\n",
       "      <th>0</th>\n",
       "      <td>data/prime/wavs/01.wav</td>\n",
       "      <td>Título I – Dos princípios fundamentais</td>\n",
       "      <td>3.217279</td>\n",
       "    </tr>\n",
       "    <tr>\n",
       "      <th>1</th>\n",
       "      <td>data/prime/wavs/02.wav</td>\n",
       "      <td>Artigo 1º. A República Federativa do Brasil, f...</td>\n",
       "      <td>9.200816</td>\n",
       "    </tr>\n",
       "    <tr>\n",
       "      <th>2</th>\n",
       "      <td>data/prime/wavs/03.wav</td>\n",
       "      <td>Constitui-se em estado democrático de direito ...</td>\n",
       "      <td>5.602676</td>\n",
       "    </tr>\n",
       "    <tr>\n",
       "      <th>3</th>\n",
       "      <td>data/prime/wavs/04.wav</td>\n",
       "      <td>Inciso I. A soberania. Inciso II.</td>\n",
       "      <td>4.409977</td>\n",
       "    </tr>\n",
       "    <tr>\n",
       "      <th>4</th>\n",
       "      <td>data/prime/wavs/05.wav</td>\n",
       "      <td>A cidadania. Inciso 3. A dignidade da pessoa h...</td>\n",
       "      <td>5.652789</td>\n",
       "    </tr>\n",
       "    <tr>\n",
       "      <th>...</th>\n",
       "      <td>...</td>\n",
       "      <td>...</td>\n",
       "      <td>...</td>\n",
       "    </tr>\n",
       "    <tr>\n",
       "      <th>7600</th>\n",
       "      <td>data/prime/wavs/995.wav</td>\n",
       "      <td>Artigo 49. É da competência exclusiva do Congr...</td>\n",
       "      <td>5.111565</td>\n",
       "    </tr>\n",
       "    <tr>\n",
       "      <th>7601</th>\n",
       "      <td>data/prime/wavs/996.wav</td>\n",
       "      <td>Artigo alterado pela Emenda Constitucional nº ...</td>\n",
       "      <td>4.590385</td>\n",
       "    </tr>\n",
       "    <tr>\n",
       "      <th>7602</th>\n",
       "      <td>data/prime/wavs/997.wav</td>\n",
       "      <td>Inciso I</td>\n",
       "      <td>10.183039</td>\n",
       "    </tr>\n",
       "    <tr>\n",
       "      <th>7603</th>\n",
       "      <td>data/prime/wavs/998.wav</td>\n",
       "      <td>Inciso 2. Autorizar o Presidente da República ...</td>\n",
       "      <td>9.391247</td>\n",
       "    </tr>\n",
       "    <tr>\n",
       "      <th>7604</th>\n",
       "      <td>data/prime/wavs/999.wav</td>\n",
       "      <td>ou nele permaneçam temporariamente ressalvados...</td>\n",
       "      <td>5.191746</td>\n",
       "    </tr>\n",
       "  </tbody>\n",
       "</table>\n",
       "<p>7605 rows × 3 columns</p>\n",
       "</div>"
      ],
      "text/plain": [
       "                         path  \\\n",
       "0      data/prime/wavs/01.wav   \n",
       "1      data/prime/wavs/02.wav   \n",
       "2      data/prime/wavs/03.wav   \n",
       "3      data/prime/wavs/04.wav   \n",
       "4      data/prime/wavs/05.wav   \n",
       "...                       ...   \n",
       "7600  data/prime/wavs/995.wav   \n",
       "7601  data/prime/wavs/996.wav   \n",
       "7602  data/prime/wavs/997.wav   \n",
       "7603  data/prime/wavs/998.wav   \n",
       "7604  data/prime/wavs/999.wav   \n",
       "\n",
       "                                               sentence       time  \n",
       "0                Título I – Dos princípios fundamentais   3.217279  \n",
       "1     Artigo 1º. A República Federativa do Brasil, f...   9.200816  \n",
       "2     Constitui-se em estado democrático de direito ...   5.602676  \n",
       "3                     Inciso I. A soberania. Inciso II.   4.409977  \n",
       "4     A cidadania. Inciso 3. A dignidade da pessoa h...   5.652789  \n",
       "...                                                 ...        ...  \n",
       "7600  Artigo 49. É da competência exclusiva do Congr...   5.111565  \n",
       "7601  Artigo alterado pela Emenda Constitucional nº ...   4.590385  \n",
       "7602                                           Inciso I  10.183039  \n",
       "7603  Inciso 2. Autorizar o Presidente da República ...   9.391247  \n",
       "7604  ou nele permaneçam temporariamente ressalvados...   5.191746  \n",
       "\n",
       "[7605 rows x 3 columns]"
      ]
     },
     "execution_count": 13,
     "metadata": {},
     "output_type": "execute_result"
    }
   ],
   "source": [
    "pd_dataset_dict = pd.read_csv('data/dataset_custom.tsv', sep='\\t')\n",
    "pd_dataset_dict"
   ]
  },
  {
   "cell_type": "markdown",
   "id": "1fbb960c",
   "metadata": {},
   "source": [
    "## Remover áudios muito grande\n",
    "Por mais que exista o parâmetro \"max_input_length\" no treinamento do código do Wav2Vec2, é interessante limpar o que não for utilizado, até porque ao fazer o preprocessing ele ocupa espaço em disco."
   ]
  },
  {
   "cell_type": "code",
   "execution_count": 14,
   "id": "49caf32b",
   "metadata": {
    "scrolled": true
   },
   "outputs": [
    {
     "data": {
      "text/plain": [
       "7474     1.292925\n",
       "343      1.363084\n",
       "7404     1.954422\n",
       "496      2.124807\n",
       "7421     2.154875\n",
       "          ...    \n",
       "4191    33.225170\n",
       "7226    33.826531\n",
       "3450    35.740862\n",
       "7047    38.958141\n",
       "7031    44.681088\n",
       "Name: time, Length: 7605, dtype: float64"
      ]
     },
     "execution_count": 14,
     "metadata": {},
     "output_type": "execute_result"
    }
   ],
   "source": [
    "pd_dataset_dict['time'].sort_values()"
   ]
  },
  {
   "cell_type": "code",
   "execution_count": 15,
   "id": "edfef3ba",
   "metadata": {},
   "outputs": [],
   "source": [
    "ranges_time = []\n",
    "ranges_time.append(pd_dataset_dict['time'].between(0, 5, inclusive='left').sum())\n",
    "ranges_time.append(pd_dataset_dict['time'].between(5, 10, inclusive='left').sum())\n",
    "ranges_time.append(pd_dataset_dict['time'].between(10, 15, inclusive='left').sum())\n",
    "ranges_time.append(pd_dataset_dict['time'].between(15, 20, inclusive='left').sum())\n",
    "ranges_time.append(pd_dataset_dict['time'].between(20, 25, inclusive='left').sum())\n",
    "ranges_time.append(pd_dataset_dict['time'].between(25, 30, inclusive='left').sum())\n",
    "ranges_time.append((pd_dataset_dict['time'] >= 30).sum())"
   ]
  },
  {
   "cell_type": "code",
   "execution_count": 16,
   "id": "c975068e",
   "metadata": {},
   "outputs": [
    {
     "data": {
      "text/plain": [
       "[Text(0, 0, '2651'),\n",
       " Text(0, 0, '4121'),\n",
       " Text(0, 0, '631'),\n",
       " Text(0, 0, '152'),\n",
       " Text(0, 0, '30'),\n",
       " Text(0, 0, '12'),\n",
       " Text(0, 0, '8')]"
      ]
     },
     "execution_count": 16,
     "metadata": {},
     "output_type": "execute_result"
    },
    {
     "data": {
      "image/png": "[encoded data removed]",
      "text/plain": [
       "<Figure size 640x480 with 1 Axes>"
      ]
     },
     "metadata": {},
     "output_type": "display_data"
    }
   ],
   "source": [
    "cat_time = pd.DataFrame(ranges_time, index=['0-5', '5-10', '10-15', '15-20', '20-25', '25-30', '>=30'])\n",
    "ax = cat_time.plot.bar()\n",
    "ax.bar_label(ax.containers[0])"
   ]
  },
  {
   "cell_type": "code",
   "execution_count": 17,
   "id": "f12f9098",
   "metadata": {},
   "outputs": [],
   "source": [
    "# Programador Artificial dataset\n",
    "#cat_time = pd.DataFrame(ranges_time, index=['0-5', '5-10', '10-15', '15-20', '20-25', '25-30', '>=30'])\n",
    "#ax = cat_time.plot.bar()\n",
    "#ax.bar_label(ax.containers[0])"
   ]
  },
  {
   "cell_type": "markdown",
   "id": "5185e6f1",
   "metadata": {},
   "source": [
    "Remover todos audios maior ou igual a 15 segundos"
   ]
  },
  {
   "cell_type": "code",
   "execution_count": 18,
   "id": "89cfce79",
   "metadata": {},
   "outputs": [],
   "source": [
    "pd_dataset_dict.loc[pd_dataset_dict['time'] >= 15, 'sentence'] = None\n",
    "pd_dataset_dict = pd_dataset_dict.dropna(subset='sentence')"
   ]
  },
  {
   "cell_type": "code",
   "execution_count": 19,
   "id": "bf3ce583",
   "metadata": {},
   "outputs": [
    {
     "data": {
      "text/html": [
       "<div>\n",
       "<style scoped>\n",
       "    .dataframe tbody tr th:only-of-type {\n",
       "        vertical-align: middle;\n",
       "    }\n",
       "\n",
       "    .dataframe tbody tr th {\n",
       "        vertical-align: top;\n",
       "    }\n",
       "\n",
       "    .dataframe thead th {\n",
       "        text-align: right;\n",
       "    }\n",
       "</style>\n",
       "<table border=\"1\" class=\"dataframe\">\n",
       "  <thead>\n",
       "    <tr style=\"text-align: right;\">\n",
       "      <th></th>\n",
       "      <th>path</th>\n",
       "      <th>sentence</th>\n",
       "      <th>time</th>\n",
       "    </tr>\n",
       "  </thead>\n",
       "  <tbody>\n",
       "    <tr>\n",
       "      <th>0</th>\n",
       "      <td>data/prime/wavs/01.wav</td>\n",
       "      <td>Título I – Dos princípios fundamentais</td>\n",
       "      <td>3.217279</td>\n",
       "    </tr>\n",
       "    <tr>\n",
       "      <th>1</th>\n",
       "      <td>data/prime/wavs/02.wav</td>\n",
       "      <td>Artigo 1º. A República Federativa do Brasil, f...</td>\n",
       "      <td>9.200816</td>\n",
       "    </tr>\n",
       "    <tr>\n",
       "      <th>2</th>\n",
       "      <td>data/prime/wavs/03.wav</td>\n",
       "      <td>Constitui-se em estado democrático de direito ...</td>\n",
       "      <td>5.602676</td>\n",
       "    </tr>\n",
       "    <tr>\n",
       "      <th>3</th>\n",
       "      <td>data/prime/wavs/04.wav</td>\n",
       "      <td>Inciso I. A soberania. Inciso II.</td>\n",
       "      <td>4.409977</td>\n",
       "    </tr>\n",
       "    <tr>\n",
       "      <th>4</th>\n",
       "      <td>data/prime/wavs/05.wav</td>\n",
       "      <td>A cidadania. Inciso 3. A dignidade da pessoa h...</td>\n",
       "      <td>5.652789</td>\n",
       "    </tr>\n",
       "    <tr>\n",
       "      <th>...</th>\n",
       "      <td>...</td>\n",
       "      <td>...</td>\n",
       "      <td>...</td>\n",
       "    </tr>\n",
       "    <tr>\n",
       "      <th>7600</th>\n",
       "      <td>data/prime/wavs/995.wav</td>\n",
       "      <td>Artigo 49. É da competência exclusiva do Congr...</td>\n",
       "      <td>5.111565</td>\n",
       "    </tr>\n",
       "    <tr>\n",
       "      <th>7601</th>\n",
       "      <td>data/prime/wavs/996.wav</td>\n",
       "      <td>Artigo alterado pela Emenda Constitucional nº ...</td>\n",
       "      <td>4.590385</td>\n",
       "    </tr>\n",
       "    <tr>\n",
       "      <th>7602</th>\n",
       "      <td>data/prime/wavs/997.wav</td>\n",
       "      <td>Inciso I</td>\n",
       "      <td>10.183039</td>\n",
       "    </tr>\n",
       "    <tr>\n",
       "      <th>7603</th>\n",
       "      <td>data/prime/wavs/998.wav</td>\n",
       "      <td>Inciso 2. Autorizar o Presidente da República ...</td>\n",
       "      <td>9.391247</td>\n",
       "    </tr>\n",
       "    <tr>\n",
       "      <th>7604</th>\n",
       "      <td>data/prime/wavs/999.wav</td>\n",
       "      <td>ou nele permaneçam temporariamente ressalvados...</td>\n",
       "      <td>5.191746</td>\n",
       "    </tr>\n",
       "  </tbody>\n",
       "</table>\n",
       "<p>7403 rows × 3 columns</p>\n",
       "</div>"
      ],
      "text/plain": [
       "                         path  \\\n",
       "0      data/prime/wavs/01.wav   \n",
       "1      data/prime/wavs/02.wav   \n",
       "2      data/prime/wavs/03.wav   \n",
       "3      data/prime/wavs/04.wav   \n",
       "4      data/prime/wavs/05.wav   \n",
       "...                       ...   \n",
       "7600  data/prime/wavs/995.wav   \n",
       "7601  data/prime/wavs/996.wav   \n",
       "7602  data/prime/wavs/997.wav   \n",
       "7603  data/prime/wavs/998.wav   \n",
       "7604  data/prime/wavs/999.wav   \n",
       "\n",
       "                                               sentence       time  \n",
       "0                Título I – Dos princípios fundamentais   3.217279  \n",
       "1     Artigo 1º. A República Federativa do Brasil, f...   9.200816  \n",
       "2     Constitui-se em estado democrático de direito ...   5.602676  \n",
       "3                     Inciso I. A soberania. Inciso II.   4.409977  \n",
       "4     A cidadania. Inciso 3. A dignidade da pessoa h...   5.652789  \n",
       "...                                                 ...        ...  \n",
       "7600  Artigo 49. É da competência exclusiva do Congr...   5.111565  \n",
       "7601  Artigo alterado pela Emenda Constitucional nº ...   4.590385  \n",
       "7602                                           Inciso I  10.183039  \n",
       "7603  Inciso 2. Autorizar o Presidente da República ...   9.391247  \n",
       "7604  ou nele permaneçam temporariamente ressalvados...   5.191746  \n",
       "\n",
       "[7403 rows x 3 columns]"
      ]
     },
     "execution_count": 19,
     "metadata": {},
     "output_type": "execute_result"
    }
   ],
   "source": [
    "pd_dataset_dict"
   ]
  },
  {
   "cell_type": "code",
   "execution_count": 20,
   "id": "80df64d8",
   "metadata": {},
   "outputs": [],
   "source": [
    "pd_dataset_dict.to_csv('data/dataset_cleaned.tsv', sep='\\t', index=False)"
   ]
  },
  {
   "cell_type": "markdown",
   "id": "7a71b95c",
   "metadata": {},
   "source": [
    "# Seperar dataset para treinamento"
   ]
  },
  {
   "cell_type": "code",
   "execution_count": 21,
   "id": "8bac8003",
   "metadata": {},
   "outputs": [],
   "source": [
    "from sklearn.model_selection import train_test_split"
   ]
  },
  {
   "cell_type": "code",
   "execution_count": 22,
   "id": "a85983e2",
   "metadata": {},
   "outputs": [],
   "source": [
    "pd_dataset = pd.read_csv('data/dataset_cleaned.tsv', sep='\\t')\n",
    "pd_dataset = pd_dataset.drop(columns=['time'])"
   ]
  },
  {
   "cell_type": "code",
   "execution_count": 23,
   "id": "1d293ef6",
   "metadata": {},
   "outputs": [],
   "source": [
    "train, valid = train_test_split(pd_dataset, test_size=0.2, shuffle=True)\n",
    "#valid, test = train_test_split(valid, test_size=0.5, shuffle=True)"
   ]
  },
  {
   "cell_type": "code",
   "execution_count": 24,
   "id": "b827d310",
   "metadata": {},
   "outputs": [
    {
     "name": "stdout",
     "output_type": "stream",
     "text": [
      "5922\n",
      "1481\n"
     ]
    }
   ],
   "source": [
    "print(len(train))\n",
    "print(len(valid))\n",
    "#print(len(test))"
   ]
  },
  {
   "cell_type": "code",
   "execution_count": 25,
   "id": "fd0538d4",
   "metadata": {},
   "outputs": [],
   "source": [
    "train.to_csv('data/train.csv', sep='|', index=False, header=False)\n",
    "valid.to_csv('data/valid.csv', sep='|', index=False, header=False)\n",
    "#test.to_csv('data/test.tsv', sep='|', index=False)"
   ]
  }
 ],
 "metadata": {
  "kernelspec": {
   "display_name": "Python 3 (ipykernel)",
   "language": "python",
   "name": "python3"
  },
  "language_info": {
   "codemirror_mode": {
    "name": "ipython",
    "version": 3
   },
   "file_extension": ".py",
   "mimetype": "text/x-python",
   "name": "python",
   "nbconvert_exporter": "python",
   "pygments_lexer": "ipython3",
   "version": "3.10.12"
  }
 },
 "nbformat": 4,
 "nbformat_minor": 5
}
